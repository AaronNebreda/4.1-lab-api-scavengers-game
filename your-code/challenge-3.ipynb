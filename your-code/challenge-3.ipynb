{
 "cells": [
  {
   "cell_type": "markdown",
   "id": "defensive-clock",
   "metadata": {},
   "source": [
    "# Challenge 3: Hidden Cold Joke\n",
    "\n",
    "Using Python, call Github API to find out the cold joke contained in the 24 secret files in the following repo:\n",
    "\n",
    "https://github.com/ironhack-datalabs/scavenger\n",
    "\n",
    "The filenames of the secret files contain .scavengerhunt and they are scattered in different directories of this repo. The secret files are named from .0001.scavengerhunt to .0024.scavengerhunt. They are scattered randomly throughout this repo. You need to search for these files by calling the Github API, not searching the local files on your computer.\n",
    "\n",
    "\n",
    "After you find out the secrete files:\n",
    "\n",
    "Sort the filenames ascendingly.\n",
    "\n",
    "Read the content of each secret files into an array of strings.\n",
    "\n",
    "Concatenate the strings in the array separating each two with a whitespace.\n",
    "\n",
    "Print out the joke."
   ]
  },
  {
   "cell_type": "markdown",
   "id": "universal-length",
   "metadata": {},
   "source": [
    "⚠️ **Remember to limit your output before submission**."
   ]
  },
  {
   "cell_type": "code",
   "execution_count": 1,
   "id": "toxic-trading",
   "metadata": {},
   "outputs": [],
   "source": [
    "# Your code"
   ]
  },
  {
   "cell_type": "code",
   "execution_count": 2,
   "id": "static-stopping",
   "metadata": {},
   "outputs": [],
   "source": [
    "# Example: print(variable[:10]) "
   ]
  },
  {
   "cell_type": "code",
   "execution_count": 3,
   "id": "d4106685",
   "metadata": {},
   "outputs": [],
   "source": [
    "#Your code\n",
    "import json\n",
    "import requests"
   ]
  },
  {
   "cell_type": "code",
   "execution_count": 4,
   "id": "56562795",
   "metadata": {},
   "outputs": [],
   "source": [
    "from tokens import *"
   ]
  },
  {
   "cell_type": "code",
   "execution_count": 5,
   "id": "38b0322c",
   "metadata": {},
   "outputs": [],
   "source": [
    "url='https://api.github.com/repos/ironhack-datalabs/scavenger'\n",
    "\n",
    "header={'Authorization': 'token ' + contras}\n",
    "\n",
    "res=requests.get(url, headers=header)"
   ]
  },
  {
   "cell_type": "code",
   "execution_count": 6,
   "id": "708e3f93",
   "metadata": {},
   "outputs": [
    {
     "data": {
      "text/plain": [
       "<Response [200]>"
      ]
     },
     "execution_count": 6,
     "metadata": {},
     "output_type": "execute_result"
    }
   ],
   "source": [
    "res"
   ]
  },
  {
   "cell_type": "code",
   "execution_count": 7,
   "id": "3a574aa4",
   "metadata": {},
   "outputs": [
    {
     "data": {
      "text/plain": [
       "'https://api.github.com/repos/ironhack-datalabs/scavenger/contents/{+path}'"
      ]
     },
     "execution_count": 7,
     "metadata": {},
     "output_type": "execute_result"
    }
   ],
   "source": [
    "res.json()['contents_url']"
   ]
  },
  {
   "cell_type": "markdown",
   "id": "dda4f540",
   "metadata": {},
   "source": [
    "CREO EL PROCESO DEL BUCLE PASO A PASO HACIENDO PRUEBAS"
   ]
  },
  {
   "cell_type": "code",
   "execution_count": 21,
   "id": "4cc5c2a3",
   "metadata": {},
   "outputs": [],
   "source": [
    "url='https://api.github.com/repos/ironhack-datalabs/scavenger/contents'\n",
    "\n",
    "header={'Authorization': 'token ' + contras}\n",
    "\n",
    "res_ini=requests.get(url, headers=header)"
   ]
  },
  {
   "cell_type": "code",
   "execution_count": 22,
   "id": "addd208d",
   "metadata": {},
   "outputs": [
    {
     "data": {
      "text/plain": [
       "{'name': '15024',\n",
       " 'path': '15024',\n",
       " 'sha': '2945e51c87ad5da893c954afcf092f06343bbb7d',\n",
       " 'size': 0,\n",
       " 'url': 'https://api.github.com/repos/ironhack-datalabs/scavenger/contents/15024?ref=master',\n",
       " 'html_url': 'https://github.com/ironhack-datalabs/scavenger/tree/master/15024',\n",
       " 'git_url': 'https://api.github.com/repos/ironhack-datalabs/scavenger/git/trees/2945e51c87ad5da893c954afcf092f06343bbb7d',\n",
       " 'download_url': None,\n",
       " 'type': 'dir',\n",
       " '_links': {'self': 'https://api.github.com/repos/ironhack-datalabs/scavenger/contents/15024?ref=master',\n",
       "  'git': 'https://api.github.com/repos/ironhack-datalabs/scavenger/git/trees/2945e51c87ad5da893c954afcf092f06343bbb7d',\n",
       "  'html': 'https://github.com/ironhack-datalabs/scavenger/tree/master/15024'}}"
      ]
     },
     "execution_count": 22,
     "metadata": {},
     "output_type": "execute_result"
    }
   ],
   "source": [
    "res_ini.json()[1]"
   ]
  },
  {
   "cell_type": "code",
   "execution_count": 23,
   "id": "9b81208d",
   "metadata": {},
   "outputs": [],
   "source": [
    "pat = res_ini.json()[1]['path']"
   ]
  },
  {
   "cell_type": "code",
   "execution_count": 24,
   "id": "e8eb78c3",
   "metadata": {},
   "outputs": [
    {
     "data": {
      "text/plain": [
       "'15024'"
      ]
     },
     "execution_count": 24,
     "metadata": {},
     "output_type": "execute_result"
    }
   ],
   "source": [
    "pat"
   ]
  },
  {
   "cell_type": "code",
   "execution_count": 25,
   "id": "069cae13",
   "metadata": {},
   "outputs": [],
   "source": [
    "\n",
    "url=f'https://api.github.com/repos/ironhack-datalabs/scavenger/contents/{pat}'\n",
    "\n",
    "header={'Authorization': 'token ' + contras}\n",
    "\n",
    "res=requests.get(url, headers=header)"
   ]
  },
  {
   "cell_type": "code",
   "execution_count": 26,
   "id": "00ee20b9",
   "metadata": {},
   "outputs": [
    {
     "data": {
      "text/plain": [
       "{'name': '.0006.scavengerhunt',\n",
       " 'path': '15024/.0006.scavengerhunt',\n",
       " 'sha': '1c9064284a24b3486015eafdb391b141c27ada2b',\n",
       " 'size': 3,\n",
       " 'url': 'https://api.github.com/repos/ironhack-datalabs/scavenger/contents/15024/.0006.scavengerhunt?ref=master',\n",
       " 'html_url': 'https://github.com/ironhack-datalabs/scavenger/blob/master/15024/.0006.scavengerhunt',\n",
       " 'git_url': 'https://api.github.com/repos/ironhack-datalabs/scavenger/git/blobs/1c9064284a24b3486015eafdb391b141c27ada2b',\n",
       " 'download_url': 'https://raw.githubusercontent.com/ironhack-datalabs/scavenger/master/15024/.0006.scavengerhunt',\n",
       " 'type': 'file',\n",
       " '_links': {'self': 'https://api.github.com/repos/ironhack-datalabs/scavenger/contents/15024/.0006.scavengerhunt?ref=master',\n",
       "  'git': 'https://api.github.com/repos/ironhack-datalabs/scavenger/git/blobs/1c9064284a24b3486015eafdb391b141c27ada2b',\n",
       "  'html': 'https://github.com/ironhack-datalabs/scavenger/blob/master/15024/.0006.scavengerhunt'}}"
      ]
     },
     "execution_count": 26,
     "metadata": {},
     "output_type": "execute_result"
    }
   ],
   "source": [
    "res.json()[0]"
   ]
  },
  {
   "cell_type": "code",
   "execution_count": 27,
   "id": "0cd689f6",
   "metadata": {},
   "outputs": [],
   "source": [
    "pat2 = res.json()[0]['path']"
   ]
  },
  {
   "cell_type": "code",
   "execution_count": 28,
   "id": "7cd74a68",
   "metadata": {},
   "outputs": [
    {
     "data": {
      "text/plain": [
       "'15024/.0006.scavengerhunt'"
      ]
     },
     "execution_count": 28,
     "metadata": {},
     "output_type": "execute_result"
    }
   ],
   "source": [
    "pat2"
   ]
  },
  {
   "cell_type": "code",
   "execution_count": 29,
   "id": "ac2d287a",
   "metadata": {},
   "outputs": [],
   "source": [
    "url=f'https://api.github.com/repos/ironhack-datalabs/scavenger/contents/{pat2}'\n",
    "\n",
    "header={'Authorization': 'token ' + contras}\n",
    "\n",
    "res=requests.get(url, headers=header)"
   ]
  },
  {
   "cell_type": "code",
   "execution_count": 30,
   "id": "005bc4aa",
   "metadata": {},
   "outputs": [
    {
     "data": {
      "text/plain": [
       "'b2YK\\n'"
      ]
     },
     "execution_count": 30,
     "metadata": {},
     "output_type": "execute_result"
    }
   ],
   "source": [
    "res.json()['content']"
   ]
  },
  {
   "cell_type": "markdown",
   "id": "7d5ae530",
   "metadata": {},
   "source": [
    "REPRODUZCO EL PROCESO EN EL SIGUIENTE BUCLE"
   ]
  },
  {
   "cell_type": "code",
   "execution_count": 31,
   "id": "aec1bae8",
   "metadata": {},
   "outputs": [],
   "source": [
    "diccionario = {}\n",
    "\n",
    "for i in range(1, len(res_ini.json())):\n",
    "    path1 = res_ini.json()[i]['path']\n",
    "    urls=f'https://api.github.com/repos/ironhack-datalabs/scavenger/contents/{path1}'\n",
    "    res_temp=requests.get(urls, headers=header)\n",
    "    path2 = res_temp.json()[0]['path']\n",
    "    llave = res_temp.json()[0]['name']\n",
    "    urls=f'https://api.github.com/repos/ironhack-datalabs/scavenger/contents/{path2}' \n",
    "    res_temp=requests.get(urls, headers=header)\n",
    "    valor = res_temp.json()['content']\n",
    "    if 'scavengerhunt' in llave:\n",
    "        diccionario[llave] = valor\n",
    "    "
   ]
  },
  {
   "cell_type": "code",
   "execution_count": 32,
   "id": "b02ff056",
   "metadata": {},
   "outputs": [
    {
     "data": {
      "text/plain": [
       "{'.0006.scavengerhunt': 'b2YK\\n',\n",
       " '.0008.scavengerhunt': 'c3BlbnQK\\n',\n",
       " '.0007.scavengerhunt': 'dGltZQo=\\n',\n",
       " '.0021.scavengerhunt': 'bmVlZAo=\\n',\n",
       " '.0022.scavengerhunt': 'dG8K\\n',\n",
       " '.0005.scavengerhunt': 'cGVyY2VudAo=\\n',\n",
       " '.0018.scavengerhunt': 'Y29tcGxhaW5pbmcK\\n',\n",
       " '.0016.scavengerhunt': 'aXMK\\n',\n",
       " '.0010.scavengerhunt': 'cHJlcGFyaW5nCg==\\n',\n",
       " '.0014.scavengerhunt': 'b2YK\\n',\n",
       " '.0011.scavengerhunt': 'ZGF0YSwK\\n',\n",
       " '.0023.scavengerhunt': 'cHJlcGFyZQo=\\n',\n",
       " '.0020.scavengerhunt': 'dGhlCg==\\n',\n",
       " '.0003.scavengerhunt': 'c2NpZW5jZSwK\\n',\n",
       " '.0004.scavengerhunt': 'ODAK\\n',\n",
       " '.0019.scavengerhunt': 'YWJvdXQK\\n',\n",
       " '.0017.scavengerhunt': 'c3BlbnQK\\n',\n",
       " '.0002.scavengerhunt': 'ZGF0YQo=\\n',\n",
       " '.0013.scavengerhunt': 'cGVyY2VudAo=\\n',\n",
       " '.0015.scavengerhunt': 'dGltZQo=\\n',\n",
       " '.0009.scavengerhunt': 'aXMK\\n',\n",
       " '.0001.scavengerhunt': 'SW4K\\n'}"
      ]
     },
     "execution_count": 32,
     "metadata": {},
     "output_type": "execute_result"
    }
   ],
   "source": [
    "diccionario"
   ]
  },
  {
   "cell_type": "code",
   "execution_count": 33,
   "id": "13d9378a",
   "metadata": {},
   "outputs": [
    {
     "data": {
      "text/plain": [
       "str"
      ]
     },
     "execution_count": 33,
     "metadata": {},
     "output_type": "execute_result"
    }
   ],
   "source": [
    "x = 'dG8K\\n'\n",
    "type(x)"
   ]
  },
  {
   "cell_type": "code",
   "execution_count": 35,
   "id": "c9b33286",
   "metadata": {},
   "outputs": [
    {
     "data": {
      "text/plain": [
       "OrderedDict([('.0001.scavengerhunt', 'SW4K\\n'),\n",
       "             ('.0002.scavengerhunt', 'ZGF0YQo=\\n'),\n",
       "             ('.0003.scavengerhunt', 'c2NpZW5jZSwK\\n'),\n",
       "             ('.0004.scavengerhunt', 'ODAK\\n'),\n",
       "             ('.0005.scavengerhunt', 'cGVyY2VudAo=\\n'),\n",
       "             ('.0006.scavengerhunt', 'b2YK\\n'),\n",
       "             ('.0007.scavengerhunt', 'dGltZQo=\\n'),\n",
       "             ('.0008.scavengerhunt', 'c3BlbnQK\\n'),\n",
       "             ('.0009.scavengerhunt', 'aXMK\\n'),\n",
       "             ('.0010.scavengerhunt', 'cHJlcGFyaW5nCg==\\n'),\n",
       "             ('.0011.scavengerhunt', 'ZGF0YSwK\\n'),\n",
       "             ('.0013.scavengerhunt', 'cGVyY2VudAo=\\n'),\n",
       "             ('.0014.scavengerhunt', 'b2YK\\n'),\n",
       "             ('.0015.scavengerhunt', 'dGltZQo=\\n'),\n",
       "             ('.0016.scavengerhunt', 'aXMK\\n'),\n",
       "             ('.0017.scavengerhunt', 'c3BlbnQK\\n'),\n",
       "             ('.0018.scavengerhunt', 'Y29tcGxhaW5pbmcK\\n'),\n",
       "             ('.0019.scavengerhunt', 'YWJvdXQK\\n'),\n",
       "             ('.0020.scavengerhunt', 'dGhlCg==\\n'),\n",
       "             ('.0021.scavengerhunt', 'bmVlZAo=\\n'),\n",
       "             ('.0022.scavengerhunt', 'dG8K\\n'),\n",
       "             ('.0023.scavengerhunt', 'cHJlcGFyZQo=\\n')])"
      ]
     },
     "execution_count": 35,
     "metadata": {},
     "output_type": "execute_result"
    }
   ],
   "source": [
    "import collections\n",
    "\n",
    "\n",
    "\n",
    "od = collections.OrderedDict(sorted(diccionario.items()))\n",
    "\n",
    "od"
   ]
  },
  {
   "cell_type": "code",
   "execution_count": 36,
   "id": "ff6f165a",
   "metadata": {},
   "outputs": [],
   "source": [
    "import base64\n",
    "\n",
    "frase = ''\n",
    "\n",
    "lista_dic = list(od.items())\n",
    "lista_dic[0][1] \n",
    "\n",
    "for i in lista_dic:\n",
    "    palabra = base64.b64decode(i[1]).decode(\"utf-8\")\n",
    "    frase = frase + ' ' + palabra[:-1]"
   ]
  },
  {
   "cell_type": "code",
   "execution_count": 37,
   "id": "adbdfcb5",
   "metadata": {},
   "outputs": [
    {
     "data": {
      "text/plain": [
       "' In data science, 80 percent of time spent is preparing data, percent of time is spent complaining about the need to prepare'"
      ]
     },
     "execution_count": 37,
     "metadata": {},
     "output_type": "execute_result"
    }
   ],
   "source": [
    "frase "
   ]
  },
  {
   "cell_type": "code",
   "execution_count": null,
   "id": "82d8523d",
   "metadata": {},
   "outputs": [],
   "source": []
  }
 ],
 "metadata": {
  "kernelspec": {
   "display_name": "Python 3 (ipykernel)",
   "language": "python",
   "name": "python3"
  },
  "language_info": {
   "codemirror_mode": {
    "name": "ipython",
    "version": 3
   },
   "file_extension": ".py",
   "mimetype": "text/x-python",
   "name": "python",
   "nbconvert_exporter": "python",
   "pygments_lexer": "ipython3",
   "version": "3.9.12"
  },
  "toc": {
   "base_numbering": 1,
   "nav_menu": {},
   "number_sections": true,
   "sideBar": true,
   "skip_h1_title": true,
   "title_cell": "Table of Contents",
   "title_sidebar": "Contents",
   "toc_cell": false,
   "toc_position": {},
   "toc_section_display": true,
   "toc_window_display": true
  }
 },
 "nbformat": 4,
 "nbformat_minor": 5
}
